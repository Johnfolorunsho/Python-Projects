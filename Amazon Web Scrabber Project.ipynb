{
 "cells": [
  {
   "cell_type": "code",
   "execution_count": 58,
   "id": "9ea58543",
   "metadata": {},
   "outputs": [],
   "source": [
    "import bs4\n",
    "import requests\n"
   ]
  },
  {
   "cell_type": "code",
   "execution_count": 61,
   "id": "38737fad",
   "metadata": {},
   "outputs": [],
   "source": [
    "# Import libraries\n",
    "\n",
    "import bs4 as beautifulsoup\n",
    "import requests\n",
    "import time\n",
    "import datetime\n",
    "\n",
    "import smtplib"
   ]
  },
  {
   "cell_type": "code",
   "execution_count": 85,
   "id": "b17f1443",
   "metadata": {},
   "outputs": [
    {
     "name": "stdout",
     "output_type": "stream",
     "text": [
      "\n",
      "\n",
      "\n",
      "                Funny Got Data MIS Data Systems Business Analyst T-Shirt\n",
      "               \n",
      "\n",
      "\n",
      "\n",
      "\n",
      "\n",
      "                 15 ratings\n",
      "                \n"
     ]
    }
   ],
   "source": [
    "# Connect to Website \n",
    "\n",
    "URL= 'https://www.amazon.com/Funny-Data-Systems-Business-Analyst/dp/B07FNW9FGJ/ref=sr_1_3?dchild=1&keywords=data%2Banalyst%2Btshirt&qid=1626655184&sr=8-3&customId=B0752XJYNL&th=1%27'\n",
    "headers = {\"User-Agent\": \"Mozilla/5.0 (Windows NT 10.0; Win64; x64) AppleWebKit/537.36 (KHTML, like Gecko) Chrome/78.0.3904.108 Safari/537.36\", \"Accept-Encoding\":\"gzip, deflate\", \"Accept\":\"text/html,application/xhtml+xml,application/xml;q=0.9,*/*;q=0.8\", \"DNT\":\"1\",\"Connection\":\"close\", \"Upgrade-Insecure-Requests\":\"1\"}\n",
    "\n",
    "page = requests.get(URL, headers=headers)\n",
    "\n",
    "soup1 = BeautifulSoup(page.content, \"html.parser\")\n",
    "\n",
    "soup2 = BeautifulSoup(soup1.prettify(), \"html.parser\")\n",
    "\n",
    "title = soup2.find(id=\"titleSection\").text\n",
    "\n",
    "review = soup2.find(id=\"acrCustomerReviewText\").text\n",
    "\n",
    "\n",
    "print(title)\n",
    "print(review)\n"
   ]
  },
  {
   "cell_type": "code",
   "execution_count": 86,
   "id": "c7f79451",
   "metadata": {},
   "outputs": [
    {
     "name": "stdout",
     "output_type": "stream",
     "text": [
      "Funny Got Data MIS Data Systems Business Analyst T-Shirt\n",
      "5 ratings\n"
     ]
    }
   ],
   "source": [
    "# Clean up the data a little bit\n",
    "\n",
    "review = review.strip()[1:]\n",
    "title = title.strip()\n",
    "\n",
    "print(title)\n",
    "print(review)"
   ]
  },
  {
   "cell_type": "code",
   "execution_count": 93,
   "id": "6317da7c",
   "metadata": {},
   "outputs": [
    {
     "name": "stdout",
     "output_type": "stream",
     "text": [
      "2023-02-21\n"
     ]
    }
   ],
   "source": [
    "import datetime\n",
    "\n",
    "today = datetime.date.today()\n",
    "\n",
    "print(today)"
   ]
  },
  {
   "cell_type": "code",
   "execution_count": 97,
   "id": "961d6f47",
   "metadata": {},
   "outputs": [],
   "source": [
    "import csv\n",
    "\n",
    "header = ['Title', 'Review', 'Date']\n",
    "data = [title, review,  today]\n",
    "\n",
    "with open('AmazonwebscraperDataset.csv', 'w', newline='', encoding='UTF8') as f:\n",
    "    writer = csv.writer(f)\n",
    "    writer.writerow(header)\n",
    "    writer.writerow(data)"
   ]
  },
  {
   "cell_type": "code",
   "execution_count": 108,
   "id": "8f83bf50",
   "metadata": {},
   "outputs": [
    {
     "name": "stdout",
     "output_type": "stream",
     "text": [
      "                                               Title     Review        Date\n",
      "0  Funny Got Data MIS Data Systems Business Analy...  5 ratings  2023-02-21\n",
      "1  Funny Got Data MIS Data Systems Business Analy...  5 ratings  2023-02-21\n",
      "2  Funny Got Data MIS Data Systems Business Analy...  5 ratings  2023-02-21\n",
      "3  Funny Got Data MIS Data Systems Business Analy...  5 ratings  2023-02-21\n",
      "4  Funny Got Data MIS Data Systems Business Analy...  5 ratings  2023-02-21\n"
     ]
    }
   ],
   "source": [
    "import pandas as pd\n",
    "\n",
    "df = pd.read_csv(r'C:\\Users\\HP\\AmazonwebscraperDataset.csv')\n",
    "\n",
    "print(df)"
   ]
  },
  {
   "cell_type": "code",
   "execution_count": 107,
   "id": "bcdcda3d",
   "metadata": {},
   "outputs": [],
   "source": [
    "#Now we are appending data to the csv\n",
    "\n",
    "with open('AmazonwebscraperDataset.csv', 'a+', newline='', encoding='UTF8') as f:\n",
    "    writer = csv.writer(f)\n",
    "    writer.writerow(data)"
   ]
  },
  {
   "cell_type": "code",
   "execution_count": 111,
   "id": "b9724d5e",
   "metadata": {},
   "outputs": [],
   "source": [
    "\n",
    "def check_review():\n",
    "    URL= 'https://www.amazon.com/Funny-Data-Systems-Business-Analyst/dp/B07FNW9FGJ/ref=sr_1_3?dchild=1&keywords=data%2Banalyst%2Btshirt&qid=1626655184&sr=8-3&customId=B0752XJYNL&th=1%27'\n",
    "    \n",
    "    headers = {\"User-Agent\": \"Mozilla/5.0 (Windows NT 10.0; Win64; x64) AppleWebKit/537.36 (KHTML, like Gecko) Chrome/78.0.3904.108 Safari/537.36\", \"Accept-Encoding\":\"gzip, deflate\", \"Accept\":\"text/html,application/xhtml+xml,application/xml;q=0.9,*/*;q=0.8\", \"DNT\":\"1\",\"Connection\":\"close\", \"Upgrade-Insecure-Requests\":\"1\"}\n",
    "\n",
    "    page = requests.get(URL, headers=headers)\n",
    "\n",
    "    soup1 = BeautifulSoup(page.content, \"html.parser\")\n",
    "\n",
    "    soup2 = BeautifulSoup(soup1.prettify(), \"html.parser\")\n",
    "\n",
    "    title = soup2.find(id=\"titleSection\").text\n",
    "\n",
    "    review = soup2.find(id=\"acrCustomerReviewText\").text\n",
    "    \n",
    "    review = review.strip()[1:]\n",
    "    title = title.strip()\n",
    "\n",
    "    import datetime\n",
    "\n",
    "    today = datetime.date.today()\n",
    "    \n",
    "    import csv\n",
    "\n",
    "    header = ['Title', 'Review', 'Date']\n",
    "    data = [title, review,  today]\n",
    "\n",
    "    with open('AmazonwebscraperDataset.csv', 'a+', newline='', encoding='UTF8') as f:\n",
    "        writer = csv.writer(f)\n",
    "        writer.writerow(data)"
   ]
  },
  {
   "cell_type": "code",
   "execution_count": null,
   "id": "4006d949",
   "metadata": {},
   "outputs": [],
   "source": [
    "while(True):\n",
    "    check_review()\n",
    "    time.sleep(86400)"
   ]
  },
  {
   "cell_type": "code",
   "execution_count": 113,
   "id": "a850ba04",
   "metadata": {},
   "outputs": [
    {
     "name": "stdout",
     "output_type": "stream",
     "text": [
      "                                               Title     Review        Date\n",
      "0  Funny Got Data MIS Data Systems Business Analy...  5 ratings  2023-02-21\n",
      "1  Funny Got Data MIS Data Systems Business Analy...  5 ratings  2023-02-21\n",
      "2  Funny Got Data MIS Data Systems Business Analy...  5 ratings  2023-02-21\n",
      "3  Funny Got Data MIS Data Systems Business Analy...  5 ratings  2023-02-21\n",
      "4  Funny Got Data MIS Data Systems Business Analy...  5 ratings  2023-02-21\n",
      "5  Funny Got Data MIS Data Systems Business Analy...  5 ratings  2023-02-21\n",
      "6  Funny Got Data MIS Data Systems Business Analy...  5 ratings  2023-02-21\n",
      "7  Funny Got Data MIS Data Systems Business Analy...  5 ratings  2023-02-21\n"
     ]
    }
   ],
   "source": [
    "import pandas as pd\n",
    "\n",
    "df = pd.read_csv(r'C:\\Users\\HP\\AmazonwebscraperDataset.csv')\n",
    "\n",
    "print(df)"
   ]
  },
  {
   "cell_type": "code",
   "execution_count": null,
   "id": "f23dc697",
   "metadata": {},
   "outputs": [],
   "source": []
  }
 ],
 "metadata": {
  "kernelspec": {
   "display_name": "Python 3 (ipykernel)",
   "language": "python",
   "name": "python3"
  },
  "language_info": {
   "codemirror_mode": {
    "name": "ipython",
    "version": 3
   },
   "file_extension": ".py",
   "mimetype": "text/x-python",
   "name": "python",
   "nbconvert_exporter": "python",
   "pygments_lexer": "ipython3",
   "version": "3.9.13"
  }
 },
 "nbformat": 4,
 "nbformat_minor": 5
}
